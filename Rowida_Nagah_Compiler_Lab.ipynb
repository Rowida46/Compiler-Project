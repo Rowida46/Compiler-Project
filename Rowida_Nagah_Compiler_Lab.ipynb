{
  "nbformat": 4,
  "nbformat_minor": 0,
  "metadata": {
    "colab": {
      "name": "Rowida_Nagah_Compiler_.ipynb",
      "provenance": [],
      "collapsed_sections": [],
      "toc_visible": true,
      "authorship_tag": "ABX9TyMmNKrFm69h4WyiRZdI2tKr",
      "include_colab_link": true
    },
    "kernelspec": {
      "name": "python3",
      "display_name": "Python 3"
    },
    "language_info": {
      "name": "python"
    }
  },
  "cells": [
    {
      "cell_type": "markdown",
      "metadata": {
        "id": "view-in-github",
        "colab_type": "text"
      },
      "source": [
        "<a href=\"https://colab.research.google.com/github/Rowida46/Compiler-Project/blob/main/Rowida_Nagah_Compiler_Lab.ipynb\" target=\"_parent\"><img src=\"https://colab.research.google.com/assets/colab-badge.svg\" alt=\"Open In Colab\"/></a>"
      ]
    },
    {
      "cell_type": "markdown",
      "source": [
        "### Variables, Constants, and Import Section.\n"
      ],
      "metadata": {
        "id": "oYDYmhV7RCXD"
      }
    },
    {
      "cell_type": "code",
      "execution_count": 28,
      "metadata": {
        "id": "fFazxKbHQ0G6"
      },
      "outputs": [],
      "source": [
        "DIGITS = '0123456789'\n",
        "\n",
        "# All probable tokens types\n",
        "\n",
        "TT_INT\t    = 'INT'\n",
        "TT_FLOAT    = 'FLOAT'\n",
        "TT_PLUS     = 'PLUS'\n",
        "TT_MINUS    = 'MINUS'\n",
        "TT_MUL      = 'MUL'\n",
        "TT_DIV      = 'DIV'\n",
        "TT_POW\t    = 'POW'\n",
        "TT_LPAREN   = 'LPAREN'\n",
        "TT_RPAREN   = 'RPAREN'\n",
        "TT_EOF\t    = 'EOF'"
      ]
    },
    {
      "cell_type": "markdown",
      "source": [
        "## Errors Section\n",
        "\n",
        "_This sectiion aims to handle and show different type of errors_\n",
        "\n",
        "##### Errors Type\n",
        "\n",
        "- Runtime Error\n",
        "- Illegal Error\n",
        "- Syntax Error"
      ],
      "metadata": {
        "id": "9_4kDFJwQ-h1"
      }
    },
    {
      "cell_type": "code",
      "source": [
        "\n",
        "class Error:\n",
        "\tdef __init__(self, pos_start, pos_end, error_name, details):\n",
        "\t\tself.pos_start = pos_start\n",
        "\t\tself.pos_end = pos_end\n",
        "\t\tself.error_name = error_name\n",
        "\t\tself.details = details\n",
        "\t\n",
        "\tdef as_string(self):\n",
        "\t\tresult  = f'{self.error_name}: {self.details}\\n'\n",
        "\t\tresult += f'File {self.pos_start.fn}, line {self.pos_start.ln + 1}'\n",
        "\t\tresult += '\\n\\n' + string_with_arrows(self.pos_start.ftxt, self.pos_start, self.pos_end)\n",
        "\t\treturn result\n",
        "\n",
        "class IllegalCharError(Error):\n",
        "\tdef __init__(self, pos_start, pos_end, details):\n",
        "\t\tsuper().__init__(pos_start, pos_end, 'Illegal Character', details)\n",
        "\n",
        "class InvalidSyntaxError(Error):\n",
        "\tdef __init__(self, pos_start, pos_end, details=''):\n",
        "\t\tsuper().__init__(pos_start, pos_end, 'Invalid Syntax', details)\n",
        "\n",
        "class RTError(Error):\n",
        "\tdef __init__(self, pos_start, pos_end, details, context):\n",
        "\t\tsuper().__init__(pos_start, pos_end, 'Runtime Error', details)\n",
        "\t\tself.context = context\n",
        "\n",
        "\tdef as_string(self):\n",
        "\t\tresult  = self.generate_traceback()\n",
        "\t\tresult += f'{self.error_name}: {self.details}'\n",
        "\t\tresult += '\\n\\n' + string_with_arrows(self.pos_start.ftxt, self.pos_start, self.pos_end)\n",
        "\t\treturn result\n",
        "\n",
        "\tdef generate_traceback(self):\n",
        "\t\tresult = ''\n",
        "\t\tpos = self.pos_start\n",
        "\t\tctx = self.context\n",
        "\n",
        "\t\twhile ctx:\n",
        "\t\t\tresult = f'  File {pos.fn}, line {str(pos.ln + 1)}, in {ctx.display_name}\\n' + result\n",
        "\t\t\tpos = ctx.parent_entry_pos\n",
        "\t\t\tctx = ctx.parent\n",
        "\n",
        "\t\treturn 'Traceback (most recent call last):\\n' + result\n"
      ],
      "metadata": {
        "id": "1WhgOccnSoVZ"
      },
      "execution_count": 29,
      "outputs": []
    },
    {
      "cell_type": "markdown",
      "source": [
        "## Positon Section\n",
        "\n",
        "_This section is to keep tracking of the lexer postion __AS a col number and row number__ and to go or point to the next token postion_"
      ],
      "metadata": {
        "id": "LRnSxqprS9-o"
      }
    },
    {
      "cell_type": "code",
      "source": [
        "class Position:\n",
        "\tdef __init__(self, idx, ln, col, fn, ftxt):\n",
        "\t\tself.idx = idx\n",
        "\t\tself.ln = ln #line number\n",
        "\t\tself.col = col # column number\n",
        "\t\tself.fn = fn # file number\n",
        "\t\tself.ftxt = ftxt\n",
        "\n",
        "\tdef advance(self, current_char=None):\n",
        "\t\tself.idx += 1\n",
        "\t\tself.col += 1\n",
        "\n",
        "\t\tif current_char == '\\n': \n",
        "      ## New line ::\n",
        "      ### back to the first column postion \n",
        "      #### increment the val of line number by one\n",
        "\t\t\tself.ln += 1\n",
        "\t\t\tself.col = 0\n",
        "\n",
        "\t\treturn self\n",
        "\n",
        "\tdef copy(self):\n",
        "\t\treturn Position(self.idx, self.ln, self.col, self.fn, self.ftxt)\n"
      ],
      "metadata": {
        "id": "eWHNLsYJS9Ie"
      },
      "execution_count": 30,
      "outputs": []
    },
    {
      "cell_type": "markdown",
      "source": [
        "## Tokenes\n",
        "\n",
        "_Token_ Class is to specify the type as well as the value of each word, and \n",
        "the representation of tokens will be In pairs like  \n",
        " `<token_type, token_val>`.\n",
        "\n",
        "### List of Token Class Mathmatical Names and thier proper Values...\n",
        "- Id          :=  `[a-zA-Z]`\n",
        "- Num         :=   `[0-9]+`\n",
        "- Op          :=  `+|-|*|/`\n",
        "- Plus        :=  `+`\n",
        "- Minus       :=  `-`\n",
        "- Times       :=  `*`\n",
        "- Over        :=  `/`"
      ],
      "metadata": {
        "id": "-omM85Q1Ux80"
      }
    },
    {
      "cell_type": "code",
      "source": [
        "\n",
        "class Token:\n",
        "\tdef __init__(self, type_, value=None, pos_start=None, pos_end=None):\n",
        "\t\tself.type = type_\n",
        "\t\tself.value = value\n",
        "\n",
        "\t\tif pos_start:\n",
        "\t\t\tself.pos_start = pos_start.copy() \n",
        "\t\t\tself.pos_end = pos_start.copy()\n",
        "\t\t\tself.pos_end.advance()\n",
        "\n",
        "\t\tif pos_end:\n",
        "\t\t\tself.pos_end = pos_end\n",
        "\t\n",
        "\tdef __repr__(self):\n",
        "\t\tif self.value: return f'{self.type}:{self.value}'\n",
        "\t\treturn f'{self.type}'\n"
      ],
      "metadata": {
        "id": "ad9HKJQoU0TW"
      },
      "execution_count": 31,
      "outputs": []
    },
    {
      "cell_type": "markdown",
      "source": [
        "## Lexer Class\n",
        "\n",
        "__Lexer__ Class will loop over the whole content to specify the token list of a given text , tokens' position, tracking of their sequence, and will that will be stored at __token lst__ .\n",
        "> To transform strings to a token list"
      ],
      "metadata": {
        "id": "WKA39A0eWDfl"
      }
    },
    {
      "cell_type": "code",
      "source": [
        "\n",
        "class Lexer:\n",
        "\tdef __init__(self, fn, text):\n",
        "\t\tself.fn = fn\n",
        "\t\tself.text = text\n",
        "\t\tself.pos = Position(-1, 0, -1, fn, text)\n",
        "\t\tself.current_char = None\n",
        "\t\tself.advance() # got to the next positon\n",
        "\t\n",
        "\tdef advance(self):\n",
        "\t\tself.pos.advance(self.current_char)\n",
        "\t\tself.current_char = self.text[self.pos.idx] if self.pos.idx < len(self.text) else None\n",
        "\n",
        "\tdef make_tokens(self):\n",
        "\t\ttokens = []\n",
        "\n",
        "\t\twhile self.current_char != None: # while actual val\n",
        "\t\t\tif self.current_char in ' \\t': # ignore taps..\n",
        "\t\t\t\tself.advance()\n",
        "\t\t\telif self.current_char in DIGITS: \n",
        "\t\t\t\ttokens.append(self.make_number())\n",
        "\t\t\telif self.current_char == '+':\n",
        "\t\t\t\ttokens.append(Token(TT_PLUS, pos_start=self.pos))\n",
        "\t\t\t\tself.advance()\n",
        "\t\t\telif self.current_char == '-':\n",
        "\t\t\t\ttokens.append(Token(TT_MINUS, pos_start=self.pos))\n",
        "\t\t\t\tself.advance()\n",
        "\t\t\telif self.current_char == '*':\n",
        "\t\t\t\ttokens.append(Token(TT_MUL, pos_start=self.pos))\n",
        "\t\t\t\tself.advance()\n",
        "\t\t\telif self.current_char == '/':\n",
        "\t\t\t\ttokens.append(Token(TT_DIV, pos_start=self.pos))\n",
        "\t\t\t\tself.advance()\n",
        "\t\t\telif self.current_char == '^':\n",
        "\t\t\t\ttokens.append(Token(TT_POW, pos_start=self.pos))\n",
        "\t\t\t\tself.advance()\n",
        "\t\t\telif self.current_char == '(':\n",
        "\t\t\t\ttokens.append(Token(TT_LPAREN, pos_start=self.pos))\n",
        "\t\t\t\tself.advance()\n",
        "\t\t\telif self.current_char == ')':\n",
        "\t\t\t\ttokens.append(Token(TT_RPAREN, pos_start=self.pos))\n",
        "\t\t\t\tself.advance()\n",
        "\t\t\telse:\n",
        "\t\t\t\tpos_start = self.pos.copy()\n",
        "\t\t\t\tchar = self.current_char\n",
        "\t\t\t\tself.advance()\n",
        "\t\t\t\treturn [], IllegalCharError(pos_start, self.pos, \"'\" + char + \"'\")\n",
        "\n",
        "\t\ttokens.append(Token(TT_EOF, pos_start=self.pos))\n",
        "\t\treturn tokens, None\n",
        "\n",
        "\tdef make_number(self): # To handle float number\n",
        "\t\tnum_str = ''\n",
        "\t\tdot_count = 0\n",
        "\t\tpos_start = self.pos.copy()\n",
        "\n",
        "\t\twhile self.current_char != None and self.current_char in DIGITS + '.': # check whether there's a dot\n",
        "\t\t\tif self.current_char == '.':\n",
        "\t\t\t\tif dot_count == 1: break\n",
        "\t\t\t\tdot_count += 1\n",
        "\t\t\t\tnum_str += '.'\n",
        "\t\t\telse:\n",
        "\t\t\t\tnum_str += self.current_char\n",
        "\t\t\tself.advance()\n",
        "\n",
        "\t\tif dot_count == 0:\n",
        "\t\t\treturn Token(TT_INT, int(num_str), pos_start, self.pos)\n",
        "\t\telse:\n",
        "\t\t\treturn Token(TT_FLOAT, float(num_str), pos_start, self.pos)\n"
      ],
      "metadata": {
        "id": "NLSOJ7l9WNII"
      },
      "execution_count": 32,
      "outputs": []
    },
    {
      "cell_type": "markdown",
      "source": [
        "### Build AST "
      ],
      "metadata": {
        "id": "NeE8HvMGV3qt"
      }
    },
    {
      "cell_type": "code",
      "source": [
        "\n",
        "class NumberNode:\n",
        "\tdef __init__(self, tok):\n",
        "\t\tself.tok = tok\n",
        "\n",
        "\t\tself.pos_start = self.tok.pos_start\n",
        "\t\tself.pos_end = self.tok.pos_end\n",
        "\n",
        "\tdef __repr__(self):\n",
        "\t\treturn f'{self.tok}'\n",
        "\n",
        "class BinOpNode:\n",
        "\tdef __init__(self, left_node, op_tok, right_node):\n",
        "\t\tself.left_node = left_node\n",
        "\t\tself.op_tok = op_tok\n",
        "\t\tself.right_node = right_node\n",
        "\n",
        "\t\tself.pos_start = self.left_node.pos_start\n",
        "\t\tself.pos_end = self.right_node.pos_end\n",
        "\n",
        "\tdef __repr__(self):\n",
        "\t\treturn f'({self.left_node}, {self.op_tok}, {self.right_node})'\n",
        "\n",
        "class UnaryOpNode:\n",
        "\tdef __init__(self, op_tok, node):\n",
        "\t\tself.op_tok = op_tok\n",
        "\t\tself.node = node\n",
        "\n",
        "\t\tself.pos_start = self.op_tok.pos_start\n",
        "\t\tself.pos_end = node.pos_end\n",
        "\n",
        "\tdef __repr__(self):\n",
        "\t\treturn f'({self.op_tok}, {self.node})'\n"
      ],
      "metadata": {
        "id": "HEykl1q5YoM7"
      },
      "execution_count": 33,
      "outputs": []
    },
    {
      "cell_type": "markdown",
      "source": [
        "## ParseResult\n",
        "To transform an abstract syntax tree to preordered intermediate code string, As well as run the parser."
      ],
      "metadata": {
        "id": "wgiEWBqfYq0c"
      }
    },
    {
      "cell_type": "code",
      "source": [
        "\n",
        "class ParseResult:\n",
        "\tdef __init__(self):\n",
        "\t\tself.error = None\n",
        "\t\tself.node = None\n",
        "\n",
        "\tdef register(self, res):\n",
        "\t\tif isinstance(res, ParseResult):\n",
        "\t\t\tif res.error: self.error = res.error\n",
        "\t\t\treturn res.node\n",
        "\n",
        "\t\treturn res\n",
        "\n",
        "\tdef success(self, node):\n",
        "\t\tself.node = node\n",
        "\t\treturn self\n",
        "\n",
        "\tdef failure(self, error):\n",
        "\t\tself.error = error\n",
        "\t\treturn self"
      ],
      "metadata": {
        "id": "fYW791f9YuAA"
      },
      "execution_count": 34,
      "outputs": []
    },
    {
      "cell_type": "markdown",
      "source": [
        "# Parse Class\n",
        "__Parse__ Class is to transform a token list into an abstract syntax tree and build the structure of the given text following a mathematical grammar base.\n",
        "\n",
        "### List of grammer base.\n",
        "- Expr   for _:=_ `ADD, SUB`\n",
        "- Term   for _:=_ `Div, Mul`  \n",
        "- Factor for _:=_ `Id, number`\n"
      ],
      "metadata": {
        "id": "7N_ZlKFDadqy"
      }
    },
    {
      "cell_type": "code",
      "source": [
        "\n",
        "class Parser:\n",
        "\tdef __init__(self, tokens):\n",
        "\t\tself.tokens = tokens\n",
        "\t\tself.tok_idx = -1 # intial val would be -1 \n",
        "\t\tself.advance() # go to the next positon\n",
        "\n",
        "\tdef advance(self, ):\n",
        "\t\tself.tok_idx += 1\n",
        "\t\tif self.tok_idx < len(self.tokens): # check len range & scope\n",
        "\t\t\tself.current_tok = self.tokens[self.tok_idx]\n",
        "\t\treturn self.current_tok\n",
        "\n",
        "\tdef parse(self):\n",
        "\t\tres = self.expr() # check a valid expresion\n",
        "\t\tif not res.error and self.current_tok.type != TT_EOF:\n",
        "\t\t\treturn res.failure(InvalidSyntaxError(\n",
        "\t\t\t\tself.current_tok.pos_start, self.current_tok.pos_end,\n",
        "\t\t\t\t\"Expected '+', '-', '*' or '/'\"\n",
        "\t\t\t))\n",
        "\t\treturn res\n",
        "\n",
        "\tdef atom(self):\n",
        "\t\tres = ParseResult()\n",
        "\t\ttok = self.current_tok\n",
        "\n",
        "\t\tif tok.type in (TT_INT, TT_FLOAT):\n",
        "\t\t\tres.register(self.advance())\n",
        "\t\t\treturn res.success(NumberNode(tok))\n",
        "\n",
        "\t\telif tok.type == TT_LPAREN:\n",
        "\t\t\tres.register(self.advance())\n",
        "\t\t\texpr = res.register(self.expr())\n",
        "\t\t\tif res.error: return res\n",
        "\t\t\tif self.current_tok.type == TT_RPAREN:\n",
        "\t\t\t\tres.register(self.advance())\n",
        "\t\t\t\treturn res.success(expr)\n",
        "\t\t\telse:\n",
        "\t\t\t\treturn res.failure(InvalidSyntaxError(\n",
        "\t\t\t\t\tself.current_tok.pos_start, self.current_tok.pos_end,\n",
        "\t\t\t\t\t\"Expected ')'\"\n",
        "\t\t\t\t))\n",
        "\n",
        "\t\treturn res.failure(InvalidSyntaxError(\n",
        "\t\t\ttok.pos_start, tok.pos_end,\n",
        "\t\t\t\"Expected int, float, '+', '-' or '('\"\n",
        "\t\t))\n",
        "\n",
        "\tdef power(self):\n",
        "\t\treturn self.bin_op(self.atom, (TT_POW, ), self.factor)\n",
        "\n",
        "\tdef factor(self): # to check a valid factor structure\n",
        "\t\tres = ParseResult()\n",
        "\t\ttok = self.current_tok\n",
        "\n",
        "\t\tif tok.type in (TT_PLUS, TT_MINUS):\n",
        "\t\t\tres.register(self.advance())\n",
        "\t\t\tfactor = res.register(self.factor())\n",
        "\t\t\tif res.error: return res\n",
        "\t\t\treturn res.success(UnaryOpNode(tok, factor))\n",
        "\n",
        "\t\treturn self.power()\n",
        "\n",
        "\tdef term(self): # to check a valid term  structure, alocate its positon in binary tree `ast`\n",
        "\t\treturn self.bin_op(self.factor, (TT_MUL, TT_DIV))\n",
        "\n",
        "\tdef expr(self):\n",
        "\t\treturn self.bin_op(self.term, (TT_PLUS, TT_MINUS))\n",
        "\n",
        "\tdef bin_op(self, func_a, ops, func_b=None):\n",
        "\t\tif func_b == None:\n",
        "\t\t\tfunc_b = func_a\n",
        "\t\t\n",
        "\t\tres = ParseResult()\n",
        "\t\tleft = res.register(func_a())\n",
        "\t\tif res.error: return res\n",
        "\n",
        "\t\twhile self.current_tok.type in ops:\n",
        "\t\t\top_tok = self.current_tok\n",
        "\t\t\tres.register(self.advance())\n",
        "\t\t\tright = res.register(func_b())\n",
        "\t\t\tif res.error: return res\n",
        "\t\t\tleft = BinOpNode(left, op_tok, right)\n",
        "\n",
        "\t\treturn res.success(left)"
      ],
      "metadata": {
        "id": "0KkVCbZ2ZNrK"
      },
      "execution_count": 35,
      "outputs": []
    },
    {
      "cell_type": "code",
      "source": [
        "## Return res status\n",
        "class RTResult:\n",
        "\tdef __init__(self):\n",
        "\t\tself.value = None\n",
        "\t\tself.error = None\n",
        "\n",
        "\tdef register(self, res):\n",
        "\t\tif res.error: self.error = res.error\n",
        "\t\treturn res.value\n",
        "\n",
        "\tdef success(self, value):\n",
        "\t\tself.value = value\n",
        "\t\treturn self\n",
        "\n",
        "\tdef failure(self, error):\n",
        "\t\tself.error = error\n",
        "\t\treturn self"
      ],
      "metadata": {
        "id": "UrD47n1cbdV_"
      },
      "execution_count": 36,
      "outputs": []
    },
    {
      "cell_type": "markdown",
      "source": [
        "## Number Class \n",
        "\n",
        "_This section is to specify the number position, start and end postion of the whole operation, context and all the probable operation that could be done._"
      ],
      "metadata": {
        "id": "oLb3-M8ObxgE"
      }
    },
    {
      "cell_type": "code",
      "source": [
        "class Number:\n",
        "\tdef __init__(self, value):\n",
        "\t\tself.value = value\n",
        "\t\tself.set_pos()\n",
        "\t\tself.set_context()\n",
        "\n",
        "\tdef set_pos(self, pos_start=None, pos_end=None):\n",
        "\t\tself.pos_start = pos_start\n",
        "\t\tself.pos_end = pos_end\n",
        "\t\treturn self\n",
        "\n",
        "\tdef set_context(self, context=None):\n",
        "\t\tself.context = context\n",
        "\t\treturn self\n",
        "\n",
        "\tdef added_to(self, other):\n",
        "\t\tif isinstance(other, Number):\n",
        "\t\t\treturn Number(self.value + other.value).set_context(self.context), None\n",
        "\n",
        "\tdef subbed_by(self, other):\n",
        "\t\tif isinstance(other, Number):\n",
        "\t\t\treturn Number(self.value - other.value).set_context(self.context), None\n",
        "\n",
        "\tdef multed_by(self, other):\n",
        "\t\tif isinstance(other, Number):\n",
        "\t\t\treturn Number(self.value * other.value).set_context(self.context), None\n",
        "\n",
        "\tdef dived_by(self, other):\n",
        "\t\tif isinstance(other, Number):\n",
        "\t\t\tif other.value == 0:\n",
        "\t\t\t\treturn None, RTError(\n",
        "\t\t\t\t\tother.pos_start, other.pos_end,\n",
        "\t\t\t\t\t'Division by zero',\n",
        "\t\t\t\t\tself.context\n",
        "\t\t\t\t)\n",
        "\n",
        "\t\t\treturn Number(self.value / other.value).set_context(self.context), None\n",
        "\n",
        "\tdef powed_by(self, other):\n",
        "\t\tif isinstance(other, Number):\n",
        "\t\t\treturn Number(self.value ** other.value).set_context(self.context), None\n",
        "\n",
        "\tdef __repr__(self):\n",
        "\t\treturn str(self.value)"
      ],
      "metadata": {
        "id": "0E7sP-S8bodj"
      },
      "execution_count": 37,
      "outputs": []
    },
    {
      "cell_type": "code",
      "source": [
        "# CONTEXT: to display the ast content\n",
        "\n",
        "class Context:\n",
        "\tdef __init__(self, display_name, parent=None, parent_entry_pos=None):\n",
        "\t\tself.display_name = display_name\n",
        "\t\tself.parent = parent\n",
        "\t\tself.parent_entry_pos = parent_entry_pos\n"
      ],
      "metadata": {
        "id": "MLcyTSPQdghR"
      },
      "execution_count": 38,
      "outputs": []
    },
    {
      "cell_type": "code",
      "source": [
        "## nterpretaation of the mathmatical predictive ast\n",
        "class Interpreter:\n",
        "\tdef visit(self, node, context):\n",
        "\t\tmethod_name = f'visit_{type(node).__name__}'\n",
        "\t\tmethod = getattr(self, method_name, self.no_visit_method)\n",
        "\t\treturn method(node, context)\n",
        "\n",
        "\tdef no_visit_method(self, node, context):\n",
        "\t\traise Exception(f'No visit_{type(node).__name__} method defined')\n",
        "\n",
        "\n",
        "\tdef visit_NumberNode(self, node, context):\n",
        "\t\treturn RTResult().success(\n",
        "\t\t\tNumber(node.tok.value).set_context(context).set_pos(node.pos_start, node.pos_end)\n",
        "\t\t)\n",
        "\n",
        "\tdef visit_BinOpNode(self, node, context):\n",
        "\t\tres = RTResult()\n",
        "\t\tleft = res.register(self.visit(node.left_node, context))\n",
        "\t\tif res.error: return res\n",
        "\t\tright = res.register(self.visit(node.right_node, context))\n",
        "\t\tif res.error: return res\n",
        "\n",
        "\t\tif node.op_tok.type == TT_PLUS:\n",
        "\t\t\tresult, error = left.added_to(right)\n",
        "\t\telif node.op_tok.type == TT_MINUS:\n",
        "\t\t\tresult, error = left.subbed_by(right)\n",
        "\t\telif node.op_tok.type == TT_MUL:\n",
        "\t\t\tresult, error = left.multed_by(right)\n",
        "\t\telif node.op_tok.type == TT_DIV:\n",
        "\t\t\tresult, error = left.dived_by(right)\n",
        "\t\telif node.op_tok.type == TT_POW:\n",
        "\t\t\tresult, error = left.powed_by(right)\n",
        "\n",
        "\t\tif error:\n",
        "\t\t\treturn res.failure(error)\n",
        "\t\telse:\n",
        "\t\t\treturn res.success(result.set_pos(node.pos_start, node.pos_end))\n",
        "\n",
        "\tdef visit_UnaryOpNode(self, node, context):\n",
        "\t\tres = RTResult()\n",
        "\t\tnumber = res.register(self.visit(node.node, context))\n",
        "\t\tif res.error: return res\n",
        "\n",
        "\t\terror = None\n",
        "\n",
        "\t\tif node.op_tok.type == TT_MINUS:\n",
        "\t\t\tnumber, error = number.multed_by(Number(-1))\n",
        "\n",
        "\t\tif error:\n",
        "\t\t\treturn res.failure(error)\n",
        "\t\telse:\n",
        "\t\t\treturn res.success(number.set_pos(node.pos_start, node.pos_end))\n"
      ],
      "metadata": {
        "id": "ttBgzhGpdunF"
      },
      "execution_count": 39,
      "outputs": []
    },
    {
      "cell_type": "code",
      "source": [
        "def main(fn, text):\n",
        "\t# Generate tokens\n",
        "\tlexer = Lexer(fn, text)\n",
        "\ttokens, error = lexer.make_tokens()\n",
        "\tif error: return None, error\n",
        "\t\n",
        "\t# Generate AST\n",
        "\tparser = Parser(tokens)\n",
        "\tast = parser.parse()\n",
        "\tif ast.error: return None, ast.error\n",
        "\n",
        "\t# Run program\n",
        "\tinterpreter = Interpreter()\n",
        "\tcontext = Context('<program>')\n",
        "\tresult = interpreter.visit(ast.node, context)\n",
        "\n",
        "\treturn result.value, result.error\n"
      ],
      "metadata": {
        "id": "NCeKJmPwd9jq"
      },
      "execution_count": 40,
      "outputs": []
    },
    {
      "cell_type": "code",
      "source": [
        "text = input('basic > ')\n",
        "main('<stdin>', text)"
      ],
      "metadata": {
        "colab": {
          "base_uri": "https://localhost:8080/"
        },
        "id": "xHpJXTZid_LX",
        "outputId": "86218656-34ec-420e-8a8f-adbb8b5620c8"
      },
      "execution_count": 41,
      "outputs": [
        {
          "name": "stdout",
          "output_type": "stream",
          "text": [
            "basic > 1 - 3\n"
          ]
        },
        {
          "output_type": "execute_result",
          "data": {
            "text/plain": [
              "(-2, None)"
            ]
          },
          "metadata": {},
          "execution_count": 41
        }
      ]
    }
  ]
}